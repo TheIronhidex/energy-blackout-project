{
 "cells": [
  {
   "cell_type": "code",
   "execution_count": 1,
   "id": "99bb0c0c",
   "metadata": {},
   "outputs": [],
   "source": [
    "import pandas as pd\n",
    "import numpy as np\n",
    "import requests\n",
    "from bs4 import BeautifulSoup\n",
    "import lxml.html as lh\n",
    "from src.api_functions import *\n",
    "from src.cleaning_functions import *\n",
    "from src.visual_functions import *\n",
    "import plotly.express as px\n",
    "import seaborn as sns\n",
    "import plotly.graph_objects as go\n",
    "import matplotlib.pyplot as plt\n",
    "from pylab import mpl"
   ]
  },
  {
   "cell_type": "code",
   "execution_count": 2,
   "id": "7d882180",
   "metadata": {},
   "outputs": [],
   "source": [
    "csv_1 = 'output/dfinal.csv' # Current population values\n",
    "csv_2 = 'output/dfinal_coords.csv' # Countries coordinates\n",
    "csv_3 = 'output/energy-var.csv' # Interannual variation of energy consumption\n",
    "csv_4 = 'output/pop_avg_rate.csv' # Population interannual variation / average rate\n",
    "csv_5 = 'output/table-1-elec.csv' # Electricity production at init\n",
    "csv_6 = 'output/table-2-share.csv' # Energy production tecnologies share at init\n",
    "csv_7 = 'output/table-3-capita.csv' # Energy consumption init"
   ]
  },
  {
   "cell_type": "code",
   "execution_count": 3,
   "id": "2e54157c",
   "metadata": {},
   "outputs": [],
   "source": [
    "db1 = load_csv(csv_1)\n",
    "db2 = load_csv(csv_2)\n",
    "db3 = load_csv(csv_3)\n",
    "db4 = load_csv(csv_4)\n",
    "db5 = load_csv(csv_5)\n",
    "db6 = load_csv(csv_6)\n",
    "db7 = load_csv(csv_7)"
   ]
  },
  {
   "cell_type": "code",
   "execution_count": 4,
   "id": "067dcfbf",
   "metadata": {},
   "outputs": [
    {
     "data": {
      "text/html": [
       "<div>\n",
       "<style scoped>\n",
       "    .dataframe tbody tr th:only-of-type {\n",
       "        vertical-align: middle;\n",
       "    }\n",
       "\n",
       "    .dataframe tbody tr th {\n",
       "        vertical-align: top;\n",
       "    }\n",
       "\n",
       "    .dataframe thead th {\n",
       "        text-align: right;\n",
       "    }\n",
       "</style>\n",
       "<table border=\"1\" class=\"dataframe\">\n",
       "  <thead>\n",
       "    <tr style=\"text-align: right;\">\n",
       "      <th></th>\n",
       "      <th>country</th>\n",
       "      <th>population</th>\n",
       "      <th>ranking</th>\n",
       "      <th>world_share</th>\n",
       "      <th>coordinates</th>\n",
       "    </tr>\n",
       "  </thead>\n",
       "  <tbody>\n",
       "    <tr>\n",
       "      <th>82</th>\n",
       "      <td>Tokelau</td>\n",
       "      <td>1357</td>\n",
       "      <td>234</td>\n",
       "      <td>0.000017</td>\n",
       "      <td>S9°0'0\" O172°0'0\"</td>\n",
       "    </tr>\n",
       "    <tr>\n",
       "      <th>37</th>\n",
       "      <td>Laos</td>\n",
       "      <td>7275560</td>\n",
       "      <td>105</td>\n",
       "      <td>0.093333</td>\n",
       "      <td>N18°0'0\" E105°0'0\"</td>\n",
       "    </tr>\n",
       "  </tbody>\n",
       "</table>\n",
       "</div>"
      ],
      "text/plain": [
       "    country  population  ranking  world_share         coordinates\n",
       "82  Tokelau        1357      234     0.000017   S9°0'0\" O172°0'0\"\n",
       "37     Laos     7275560      105     0.093333  N18°0'0\" E105°0'0\""
      ]
     },
     "execution_count": 4,
     "metadata": {},
     "output_type": "execute_result"
    }
   ],
   "source": [
    "db1.sample(2)"
   ]
  },
  {
   "cell_type": "code",
   "execution_count": 5,
   "id": "a7156a43",
   "metadata": {},
   "outputs": [
    {
     "data": {
      "text/html": [
       "<div>\n",
       "<style scoped>\n",
       "    .dataframe tbody tr th:only-of-type {\n",
       "        vertical-align: middle;\n",
       "    }\n",
       "\n",
       "    .dataframe tbody tr th {\n",
       "        vertical-align: top;\n",
       "    }\n",
       "\n",
       "    .dataframe thead th {\n",
       "        text-align: right;\n",
       "    }\n",
       "</style>\n",
       "<table border=\"1\" class=\"dataframe\">\n",
       "  <thead>\n",
       "    <tr style=\"text-align: right;\">\n",
       "      <th></th>\n",
       "      <th>country</th>\n",
       "      <th>0</th>\n",
       "      <th>1</th>\n",
       "    </tr>\n",
       "  </thead>\n",
       "  <tbody>\n",
       "    <tr>\n",
       "      <th>13</th>\n",
       "      <td>Nepal</td>\n",
       "      <td>N28°0'0\"</td>\n",
       "      <td>E84°0'0\"</td>\n",
       "    </tr>\n",
       "    <tr>\n",
       "      <th>42</th>\n",
       "      <td>Costa Rica</td>\n",
       "      <td>N10°0'0\"</td>\n",
       "      <td>O84°0'0\"</td>\n",
       "    </tr>\n",
       "  </tbody>\n",
       "</table>\n",
       "</div>"
      ],
      "text/plain": [
       "       country         0         1\n",
       "13       Nepal  N28°0'0\"  E84°0'0\"\n",
       "42  Costa Rica  N10°0'0\"  O84°0'0\""
      ]
     },
     "execution_count": 5,
     "metadata": {},
     "output_type": "execute_result"
    }
   ],
   "source": [
    "db2.sample(2)"
   ]
  },
  {
   "cell_type": "code",
   "execution_count": 6,
   "id": "7ac67a9b",
   "metadata": {},
   "outputs": [
    {
     "data": {
      "text/html": [
       "<div>\n",
       "<style scoped>\n",
       "    .dataframe tbody tr th:only-of-type {\n",
       "        vertical-align: middle;\n",
       "    }\n",
       "\n",
       "    .dataframe tbody tr th {\n",
       "        vertical-align: top;\n",
       "    }\n",
       "\n",
       "    .dataframe thead th {\n",
       "        text-align: right;\n",
       "    }\n",
       "</style>\n",
       "<table border=\"1\" class=\"dataframe\">\n",
       "  <thead>\n",
       "    <tr style=\"text-align: right;\">\n",
       "      <th></th>\n",
       "      <th>country</th>\n",
       "      <th>population_x</th>\n",
       "      <th>ranking</th>\n",
       "      <th>world_share</th>\n",
       "      <th>energy_cons_change_twh</th>\n",
       "      <th>energy_per_capita</th>\n",
       "      <th>population_y</th>\n",
       "      <th>primary_energy_consumption</th>\n",
       "    </tr>\n",
       "  </thead>\n",
       "  <tbody>\n",
       "    <tr>\n",
       "      <th>16</th>\n",
       "      <td>Belarus</td>\n",
       "      <td>9449323</td>\n",
       "      <td>96</td>\n",
       "      <td>0.121219</td>\n",
       "      <td>-3.360500</td>\n",
       "      <td>32611.843486</td>\n",
       "      <td>9.746700e+06</td>\n",
       "      <td>318.824600</td>\n",
       "    </tr>\n",
       "    <tr>\n",
       "      <th>81</th>\n",
       "      <td>Hong Kong</td>\n",
       "      <td>7496981</td>\n",
       "      <td>104</td>\n",
       "      <td>0.096174</td>\n",
       "      <td>5.898389</td>\n",
       "      <td>27768.763382</td>\n",
       "      <td>5.694673e+06</td>\n",
       "      <td>173.600945</td>\n",
       "    </tr>\n",
       "  </tbody>\n",
       "</table>\n",
       "</div>"
      ],
      "text/plain": [
       "      country  population_x  ranking  world_share  energy_cons_change_twh  \\\n",
       "16    Belarus       9449323       96     0.121219               -3.360500   \n",
       "81  Hong Kong       7496981      104     0.096174                5.898389   \n",
       "\n",
       "    energy_per_capita  population_y  primary_energy_consumption  \n",
       "16       32611.843486  9.746700e+06                  318.824600  \n",
       "81       27768.763382  5.694673e+06                  173.600945  "
      ]
     },
     "execution_count": 6,
     "metadata": {},
     "output_type": "execute_result"
    }
   ],
   "source": [
    "db3.sample(2)"
   ]
  },
  {
   "cell_type": "code",
   "execution_count": 7,
   "id": "fa884744",
   "metadata": {},
   "outputs": [
    {
     "data": {
      "text/html": [
       "<div>\n",
       "<style scoped>\n",
       "    .dataframe tbody tr th:only-of-type {\n",
       "        vertical-align: middle;\n",
       "    }\n",
       "\n",
       "    .dataframe tbody tr th {\n",
       "        vertical-align: top;\n",
       "    }\n",
       "\n",
       "    .dataframe thead th {\n",
       "        text-align: right;\n",
       "    }\n",
       "</style>\n",
       "<table border=\"1\" class=\"dataframe\">\n",
       "  <thead>\n",
       "    <tr style=\"text-align: right;\">\n",
       "      <th></th>\n",
       "      <th>country</th>\n",
       "      <th>population</th>\n",
       "      <th>ranking</th>\n",
       "      <th>world_share</th>\n",
       "      <th>GrowthRate</th>\n",
       "    </tr>\n",
       "  </thead>\n",
       "  <tbody>\n",
       "    <tr>\n",
       "      <th>48</th>\n",
       "      <td>Burkina Faso</td>\n",
       "      <td>20903273</td>\n",
       "      <td>59</td>\n",
       "      <td>0.268155</td>\n",
       "      <td>1.977467</td>\n",
       "    </tr>\n",
       "    <tr>\n",
       "      <th>199</th>\n",
       "      <td>Saint Helena</td>\n",
       "      <td>6077</td>\n",
       "      <td>229</td>\n",
       "      <td>0.000078</td>\n",
       "      <td>-0.103300</td>\n",
       "    </tr>\n",
       "  </tbody>\n",
       "</table>\n",
       "</div>"
      ],
      "text/plain": [
       "          country  population  ranking  world_share  GrowthRate\n",
       "48   Burkina Faso    20903273       59     0.268155    1.977467\n",
       "199  Saint Helena        6077      229     0.000078   -0.103300"
      ]
     },
     "execution_count": 7,
     "metadata": {},
     "output_type": "execute_result"
    }
   ],
   "source": [
    "db4.sample(2)"
   ]
  },
  {
   "cell_type": "code",
   "execution_count": 18,
   "id": "625c00a0",
   "metadata": {},
   "outputs": [
    {
     "data": {
      "text/plain": [
       "(204, 5)"
      ]
     },
     "execution_count": 18,
     "metadata": {},
     "output_type": "execute_result"
    }
   ],
   "source": [
    "db4.shape"
   ]
  },
  {
   "cell_type": "code",
   "execution_count": 8,
   "id": "2da7a93a",
   "metadata": {},
   "outputs": [
    {
     "data": {
      "text/html": [
       "<div>\n",
       "<style scoped>\n",
       "    .dataframe tbody tr th:only-of-type {\n",
       "        vertical-align: middle;\n",
       "    }\n",
       "\n",
       "    .dataframe tbody tr th {\n",
       "        vertical-align: top;\n",
       "    }\n",
       "\n",
       "    .dataframe thead th {\n",
       "        text-align: right;\n",
       "    }\n",
       "</style>\n",
       "<table border=\"1\" class=\"dataframe\">\n",
       "  <thead>\n",
       "    <tr style=\"text-align: right;\">\n",
       "      <th></th>\n",
       "      <th>country</th>\n",
       "      <th>year</th>\n",
       "      <th>electricity_generation</th>\n",
       "      <th>biofuel_electricity</th>\n",
       "      <th>coal_electricity</th>\n",
       "      <th>fossil_electricity</th>\n",
       "      <th>gas_electricity</th>\n",
       "      <th>hydro_electricity</th>\n",
       "      <th>nuclear_electricity</th>\n",
       "      <th>oil_electricity</th>\n",
       "      <th>other_renewable_electricity</th>\n",
       "      <th>other_renewable_exc_biofuel_electricity</th>\n",
       "      <th>renewables_electricity</th>\n",
       "      <th>solar_electricity</th>\n",
       "      <th>wind_electricity</th>\n",
       "      <th>low_carbon_electricity</th>\n",
       "    </tr>\n",
       "  </thead>\n",
       "  <tbody>\n",
       "    <tr>\n",
       "      <th>25</th>\n",
       "      <td>Poland</td>\n",
       "      <td>2020</td>\n",
       "      <td>157.388</td>\n",
       "      <td>6.831</td>\n",
       "      <td>109.903</td>\n",
       "      <td>130.772</td>\n",
       "      <td>16.417</td>\n",
       "      <td>2.022</td>\n",
       "      <td>0.0</td>\n",
       "      <td>4.452</td>\n",
       "      <td>6.831</td>\n",
       "      <td>0.0</td>\n",
       "      <td>26.617</td>\n",
       "      <td>2.079</td>\n",
       "      <td>15.685</td>\n",
       "      <td>26.617</td>\n",
       "    </tr>\n",
       "    <tr>\n",
       "      <th>0</th>\n",
       "      <td>China</td>\n",
       "      <td>2020</td>\n",
       "      <td>7623.696</td>\n",
       "      <td>129.640</td>\n",
       "      <td>4631.215</td>\n",
       "      <td>5044.957</td>\n",
       "      <td>253.425</td>\n",
       "      <td>1355.200</td>\n",
       "      <td>366.2</td>\n",
       "      <td>160.317</td>\n",
       "      <td>129.740</td>\n",
       "      <td>0.1</td>\n",
       "      <td>2212.540</td>\n",
       "      <td>261.100</td>\n",
       "      <td>466.500</td>\n",
       "      <td>2578.740</td>\n",
       "    </tr>\n",
       "  </tbody>\n",
       "</table>\n",
       "</div>"
      ],
      "text/plain": [
       "   country  year  electricity_generation  biofuel_electricity  \\\n",
       "25  Poland  2020                 157.388                6.831   \n",
       "0    China  2020                7623.696              129.640   \n",
       "\n",
       "    coal_electricity  fossil_electricity  gas_electricity  hydro_electricity  \\\n",
       "25           109.903             130.772           16.417              2.022   \n",
       "0           4631.215            5044.957          253.425           1355.200   \n",
       "\n",
       "    nuclear_electricity  oil_electricity  other_renewable_electricity  \\\n",
       "25                  0.0            4.452                        6.831   \n",
       "0                 366.2          160.317                      129.740   \n",
       "\n",
       "    other_renewable_exc_biofuel_electricity  renewables_electricity  \\\n",
       "25                                      0.0                  26.617   \n",
       "0                                       0.1                2212.540   \n",
       "\n",
       "    solar_electricity  wind_electricity  low_carbon_electricity  \n",
       "25              2.079            15.685                  26.617  \n",
       "0             261.100           466.500                2578.740  "
      ]
     },
     "execution_count": 8,
     "metadata": {},
     "output_type": "execute_result"
    }
   ],
   "source": [
    "db5=db5.drop(['Unnamed: 0'], axis=1, inplace=False)\n",
    "db5.sample(2)"
   ]
  },
  {
   "cell_type": "code",
   "execution_count": 9,
   "id": "dae876fe",
   "metadata": {},
   "outputs": [
    {
     "data": {
      "text/html": [
       "<div>\n",
       "<style scoped>\n",
       "    .dataframe tbody tr th:only-of-type {\n",
       "        vertical-align: middle;\n",
       "    }\n",
       "\n",
       "    .dataframe tbody tr th {\n",
       "        vertical-align: top;\n",
       "    }\n",
       "\n",
       "    .dataframe thead th {\n",
       "        text-align: right;\n",
       "    }\n",
       "</style>\n",
       "<table border=\"1\" class=\"dataframe\">\n",
       "  <thead>\n",
       "    <tr style=\"text-align: right;\">\n",
       "      <th></th>\n",
       "      <th>country</th>\n",
       "      <th>world_share</th>\n",
       "      <th>year</th>\n",
       "      <th>biofuel_share_elec</th>\n",
       "      <th>coal_share_elec</th>\n",
       "      <th>fossil_share_elec</th>\n",
       "      <th>gas_share_elec</th>\n",
       "      <th>hydro_share_elec</th>\n",
       "      <th>low_carbon_share_elec</th>\n",
       "      <th>nuclear_share_elec</th>\n",
       "      <th>oil_share_elec</th>\n",
       "      <th>other_renewables_share_elec</th>\n",
       "      <th>renewables_share_elec</th>\n",
       "      <th>solar_share_elec</th>\n",
       "      <th>wind_share_elec</th>\n",
       "    </tr>\n",
       "  </thead>\n",
       "  <tbody>\n",
       "    <tr>\n",
       "      <th>47</th>\n",
       "      <td>Bulgaria</td>\n",
       "      <td>0.089137</td>\n",
       "      <td>2020</td>\n",
       "      <td>3.695</td>\n",
       "      <td>33.498</td>\n",
       "      <td>40.156</td>\n",
       "      <td>5.559</td>\n",
       "      <td>7.353</td>\n",
       "      <td>59.844</td>\n",
       "      <td>41.253</td>\n",
       "      <td>1.098</td>\n",
       "      <td>3.695</td>\n",
       "      <td>18.591</td>\n",
       "      <td>3.886</td>\n",
       "      <td>3.658</td>\n",
       "    </tr>\n",
       "    <tr>\n",
       "      <th>1</th>\n",
       "      <td>India</td>\n",
       "      <td>17.703184</td>\n",
       "      <td>2020</td>\n",
       "      <td>1.071</td>\n",
       "      <td>70.563</td>\n",
       "      <td>74.456</td>\n",
       "      <td>3.883</td>\n",
       "      <td>12.185</td>\n",
       "      <td>25.544</td>\n",
       "      <td>3.320</td>\n",
       "      <td>0.010</td>\n",
       "      <td>1.161</td>\n",
       "      <td>22.224</td>\n",
       "      <td>4.376</td>\n",
       "      <td>4.502</td>\n",
       "    </tr>\n",
       "  </tbody>\n",
       "</table>\n",
       "</div>"
      ],
      "text/plain": [
       "     country  world_share  year  biofuel_share_elec  coal_share_elec  \\\n",
       "47  Bulgaria     0.089137  2020               3.695           33.498   \n",
       "1      India    17.703184  2020               1.071           70.563   \n",
       "\n",
       "    fossil_share_elec  gas_share_elec  hydro_share_elec  \\\n",
       "47             40.156           5.559             7.353   \n",
       "1              74.456           3.883            12.185   \n",
       "\n",
       "    low_carbon_share_elec  nuclear_share_elec  oil_share_elec  \\\n",
       "47                 59.844              41.253           1.098   \n",
       "1                  25.544               3.320           0.010   \n",
       "\n",
       "    other_renewables_share_elec  renewables_share_elec  solar_share_elec  \\\n",
       "47                        3.695                 18.591             3.886   \n",
       "1                         1.161                 22.224             4.376   \n",
       "\n",
       "    wind_share_elec  \n",
       "47            3.658  \n",
       "1             4.502  "
      ]
     },
     "execution_count": 9,
     "metadata": {},
     "output_type": "execute_result"
    }
   ],
   "source": [
    "db6=db6.drop(['Unnamed: 0'], axis=1, inplace=False)\n",
    "db6.sample(2)"
   ]
  },
  {
   "cell_type": "code",
   "execution_count": 10,
   "id": "5a364073",
   "metadata": {},
   "outputs": [
    {
     "data": {
      "text/html": [
       "<div>\n",
       "<style scoped>\n",
       "    .dataframe tbody tr th:only-of-type {\n",
       "        vertical-align: middle;\n",
       "    }\n",
       "\n",
       "    .dataframe tbody tr th {\n",
       "        vertical-align: top;\n",
       "    }\n",
       "\n",
       "    .dataframe thead th {\n",
       "        text-align: right;\n",
       "    }\n",
       "</style>\n",
       "<table border=\"1\" class=\"dataframe\">\n",
       "  <thead>\n",
       "    <tr style=\"text-align: right;\">\n",
       "      <th></th>\n",
       "      <th>country</th>\n",
       "      <th>population_x</th>\n",
       "      <th>world_share</th>\n",
       "      <th>biofuel_elec_per_capita</th>\n",
       "      <th>coal_elec_per_capita</th>\n",
       "      <th>fossil_cons_per_capita</th>\n",
       "      <th>gas_elec_per_capita</th>\n",
       "      <th>hydro_elec_per_capita</th>\n",
       "      <th>low_carbon_elec_per_capita</th>\n",
       "      <th>nuclear_elec_per_capita</th>\n",
       "      <th>oil_elec_per_capita</th>\n",
       "      <th>other_renewables_elec_per_capita</th>\n",
       "      <th>per_capita_electricity</th>\n",
       "      <th>renewables_elec_per_capita</th>\n",
       "      <th>renewables_share_elec</th>\n",
       "      <th>solar_elec_per_capita</th>\n",
       "      <th>wind_elec_per_capita</th>\n",
       "    </tr>\n",
       "  </thead>\n",
       "  <tbody>\n",
       "    <tr>\n",
       "      <th>15</th>\n",
       "      <td>Thailand</td>\n",
       "      <td>69799978</td>\n",
       "      <td>0.895419</td>\n",
       "      <td>263.778</td>\n",
       "      <td>496.743</td>\n",
       "      <td>2038.061</td>\n",
       "      <td>1531.152</td>\n",
       "      <td>65.896</td>\n",
       "      <td>447.281</td>\n",
       "      <td>0.0</td>\n",
       "      <td>10.165</td>\n",
       "      <td>263.778</td>\n",
       "      <td>2485.342</td>\n",
       "      <td>447.281</td>\n",
       "      <td>17.997</td>\n",
       "      <td>69.986</td>\n",
       "      <td>47.622</td>\n",
       "    </tr>\n",
       "    <tr>\n",
       "      <th>35</th>\n",
       "      <td>Bolivia</td>\n",
       "      <td>11673021</td>\n",
       "      <td>0.149746</td>\n",
       "      <td>23.045</td>\n",
       "      <td>0.000</td>\n",
       "      <td>507.235</td>\n",
       "      <td>507.235</td>\n",
       "      <td>249.722</td>\n",
       "      <td>299.821</td>\n",
       "      <td>0.0</td>\n",
       "      <td>0.000</td>\n",
       "      <td>23.045</td>\n",
       "      <td>807.056</td>\n",
       "      <td>299.821</td>\n",
       "      <td>37.150</td>\n",
       "      <td>21.573</td>\n",
       "      <td>5.482</td>\n",
       "    </tr>\n",
       "  </tbody>\n",
       "</table>\n",
       "</div>"
      ],
      "text/plain": [
       "     country  population_x  world_share  biofuel_elec_per_capita  \\\n",
       "15  Thailand      69799978     0.895419                  263.778   \n",
       "35   Bolivia      11673021     0.149746                   23.045   \n",
       "\n",
       "    coal_elec_per_capita  fossil_cons_per_capita  gas_elec_per_capita  \\\n",
       "15               496.743                2038.061             1531.152   \n",
       "35                 0.000                 507.235              507.235   \n",
       "\n",
       "    hydro_elec_per_capita  low_carbon_elec_per_capita  \\\n",
       "15                 65.896                     447.281   \n",
       "35                249.722                     299.821   \n",
       "\n",
       "    nuclear_elec_per_capita  oil_elec_per_capita  \\\n",
       "15                      0.0               10.165   \n",
       "35                      0.0                0.000   \n",
       "\n",
       "    other_renewables_elec_per_capita  per_capita_electricity  \\\n",
       "15                           263.778                2485.342   \n",
       "35                            23.045                 807.056   \n",
       "\n",
       "    renewables_elec_per_capita  renewables_share_elec  solar_elec_per_capita  \\\n",
       "15                     447.281                 17.997                 69.986   \n",
       "35                     299.821                 37.150                 21.573   \n",
       "\n",
       "    wind_elec_per_capita  \n",
       "15                47.622  \n",
       "35                 5.482  "
      ]
     },
     "execution_count": 10,
     "metadata": {},
     "output_type": "execute_result"
    }
   ],
   "source": [
    "db7=db7.drop(['Unnamed: 0'], axis=1, inplace=False)\n",
    "db7.sample(2)"
   ]
  },
  {
   "cell_type": "code",
   "execution_count": 11,
   "id": "bb9579fa",
   "metadata": {},
   "outputs": [],
   "source": [
    "x = db1['population']"
   ]
  },
  {
   "cell_type": "code",
   "execution_count": 16,
   "id": "2e8de719",
   "metadata": {},
   "outputs": [
    {
     "data": {
      "text/plain": [
       "83"
      ]
     },
     "execution_count": 16,
     "metadata": {},
     "output_type": "execute_result"
    }
   ],
   "source": [
    "len(x)"
   ]
  },
  {
   "cell_type": "code",
   "execution_count": 17,
   "id": "741cbec6",
   "metadata": {},
   "outputs": [
    {
     "data": {
      "text/plain": [
       "204"
      ]
     },
     "execution_count": 17,
     "metadata": {},
     "output_type": "execute_result"
    }
   ],
   "source": [
    "len(y)"
   ]
  },
  {
   "cell_type": "code",
   "execution_count": 12,
   "id": "defdb360",
   "metadata": {},
   "outputs": [],
   "source": [
    "db4.GrowthRate = db4.GrowthRate.astype(int)"
   ]
  },
  {
   "cell_type": "code",
   "execution_count": 13,
   "id": "b109489f",
   "metadata": {},
   "outputs": [],
   "source": [
    "y = np.multiply(db1['population'],db4['GrowthRate'])"
   ]
  },
  {
   "cell_type": "code",
   "execution_count": 14,
   "id": "b34ef888",
   "metadata": {},
   "outputs": [
    {
     "name": "stderr",
     "output_type": "stream",
     "text": [
      "/mnt/c/Ironhack/Material/Repositorio/Proyecto_3/src/visual_functions.py:28: RuntimeWarning: overflow encountered in long_scalars\n",
      "  return_k=(size*sum_xy-sum_x*sum_y)/(size*sum_sqare_x-sum_x*sum_x)\n"
     ]
    },
    {
     "ename": "ValueError",
     "evalue": "x and y must be the same size",
     "output_type": "error",
     "traceback": [
      "\u001b[0;31m---------------------------------------------------------------------------\u001b[0m",
      "\u001b[0;31mValueError\u001b[0m                                Traceback (most recent call last)",
      "\u001b[0;32m<ipython-input-14-e4a8b4bf4ac7>\u001b[0m in \u001b[0;36m<module>\u001b[0;34m\u001b[0m\n\u001b[1;32m      1\u001b[0m \u001b[0mparameter\u001b[0m \u001b[0;34m=\u001b[0m \u001b[0mliner_fitting\u001b[0m\u001b[0;34m(\u001b[0m\u001b[0mx\u001b[0m\u001b[0;34m,\u001b[0m\u001b[0my\u001b[0m\u001b[0;34m)\u001b[0m\u001b[0;34m\u001b[0m\u001b[0;34m\u001b[0m\u001b[0m\n\u001b[1;32m      2\u001b[0m \u001b[0mdraw_data\u001b[0m \u001b[0;34m=\u001b[0m \u001b[0mcalculate_lin\u001b[0m\u001b[0;34m(\u001b[0m\u001b[0mx\u001b[0m\u001b[0;34m,\u001b[0m\u001b[0mparameter\u001b[0m\u001b[0;34m[\u001b[0m\u001b[0;36m0\u001b[0m\u001b[0;34m]\u001b[0m\u001b[0;34m,\u001b[0m\u001b[0mparameter\u001b[0m\u001b[0;34m[\u001b[0m\u001b[0;36m1\u001b[0m\u001b[0;34m]\u001b[0m\u001b[0;34m)\u001b[0m\u001b[0;34m\u001b[0m\u001b[0;34m\u001b[0m\u001b[0m\n\u001b[0;32m----> 3\u001b[0;31m \u001b[0mdraw_lin\u001b[0m\u001b[0;34m(\u001b[0m\u001b[0mx\u001b[0m\u001b[0;34m,\u001b[0m\u001b[0mdraw_data\u001b[0m\u001b[0;34m,\u001b[0m\u001b[0my\u001b[0m\u001b[0;34m)\u001b[0m\u001b[0;34m\u001b[0m\u001b[0;34m\u001b[0m\u001b[0m\n\u001b[0m",
      "\u001b[0;32m/mnt/c/Ironhack/Material/Repositorio/Proyecto_3/src/visual_functions.py\u001b[0m in \u001b[0;36mdraw_lin\u001b[0;34m(data_x, data_y_new, data_y_old)\u001b[0m\n\u001b[1;32m     41\u001b[0m \u001b[0;32mdef\u001b[0m \u001b[0mdraw_lin\u001b[0m\u001b[0;34m(\u001b[0m\u001b[0mdata_x\u001b[0m\u001b[0;34m,\u001b[0m\u001b[0mdata_y_new\u001b[0m\u001b[0;34m,\u001b[0m\u001b[0mdata_y_old\u001b[0m\u001b[0;34m)\u001b[0m\u001b[0;34m:\u001b[0m\u001b[0;34m\u001b[0m\u001b[0;34m\u001b[0m\u001b[0m\n\u001b[1;32m     42\u001b[0m     \u001b[0mplt\u001b[0m\u001b[0;34m.\u001b[0m\u001b[0mplot\u001b[0m \u001b[0;34m(\u001b[0m\u001b[0mdata_x\u001b[0m\u001b[0;34m,\u001b[0m \u001b[0mdata_y_new\u001b[0m\u001b[0;34m,\u001b[0m \u001b[0mlabel\u001b[0m \u001b[0;34m=\u001b[0m \u001b[0;34m\"test\"\u001b[0m\u001b[0;34m,\u001b[0m \u001b[0mcolor\u001b[0m \u001b[0;34m=\u001b[0m \u001b[0;34m\"black\"\u001b[0m\u001b[0;34m)\u001b[0m\u001b[0;34m\u001b[0m\u001b[0;34m\u001b[0m\u001b[0m\n\u001b[0;32m---> 43\u001b[0;31m     \u001b[0mplt\u001b[0m\u001b[0;34m.\u001b[0m\u001b[0mscatter\u001b[0m \u001b[0;34m(\u001b[0m\u001b[0mdata_x\u001b[0m\u001b[0;34m,\u001b[0m \u001b[0mdata_y_old\u001b[0m\u001b[0;34m,\u001b[0m \u001b[0mlabel\u001b[0m \u001b[0;34m=\u001b[0m \u001b[0;34m\"discrete data\"\u001b[0m\u001b[0;34m)\u001b[0m\u001b[0;34m\u001b[0m\u001b[0;34m\u001b[0m\u001b[0m\n\u001b[0m\u001b[1;32m     44\u001b[0m     \u001b[0mmpl\u001b[0m\u001b[0;34m.\u001b[0m\u001b[0mrcParams\u001b[0m\u001b[0;34m[\u001b[0m\u001b[0;34m'axes.unicode_minus'\u001b[0m\u001b[0;34m]\u001b[0m \u001b[0;34m=\u001b[0m \u001b[0;32mFalse\u001b[0m\u001b[0;34m\u001b[0m\u001b[0;34m\u001b[0m\u001b[0m\n\u001b[1;32m     45\u001b[0m     \u001b[0mplt\u001b[0m\u001b[0;34m.\u001b[0m\u001b[0mtitle\u001b[0m \u001b[0;34m(\u001b[0m\u001b[0;34m\"Datos de ajuste lineal de una variable\"\u001b[0m\u001b[0;34m)\u001b[0m\u001b[0;34m\u001b[0m\u001b[0;34m\u001b[0m\u001b[0m\n",
      "\u001b[0;32m~/Anaconda3/lib/python3.8/site-packages/matplotlib/pyplot.py\u001b[0m in \u001b[0;36mscatter\u001b[0;34m(x, y, s, c, marker, cmap, norm, vmin, vmax, alpha, linewidths, verts, edgecolors, plotnonfinite, data, **kwargs)\u001b[0m\n\u001b[1;32m   2888\u001b[0m         \u001b[0mverts\u001b[0m\u001b[0;34m=\u001b[0m\u001b[0mcbook\u001b[0m\u001b[0;34m.\u001b[0m\u001b[0mdeprecation\u001b[0m\u001b[0;34m.\u001b[0m\u001b[0m_deprecated_parameter\u001b[0m\u001b[0;34m,\u001b[0m\u001b[0;34m\u001b[0m\u001b[0;34m\u001b[0m\u001b[0m\n\u001b[1;32m   2889\u001b[0m         edgecolors=None, *, plotnonfinite=False, data=None, **kwargs):\n\u001b[0;32m-> 2890\u001b[0;31m     __ret = gca().scatter(\n\u001b[0m\u001b[1;32m   2891\u001b[0m         \u001b[0mx\u001b[0m\u001b[0;34m,\u001b[0m \u001b[0my\u001b[0m\u001b[0;34m,\u001b[0m \u001b[0ms\u001b[0m\u001b[0;34m=\u001b[0m\u001b[0ms\u001b[0m\u001b[0;34m,\u001b[0m \u001b[0mc\u001b[0m\u001b[0;34m=\u001b[0m\u001b[0mc\u001b[0m\u001b[0;34m,\u001b[0m \u001b[0mmarker\u001b[0m\u001b[0;34m=\u001b[0m\u001b[0mmarker\u001b[0m\u001b[0;34m,\u001b[0m \u001b[0mcmap\u001b[0m\u001b[0;34m=\u001b[0m\u001b[0mcmap\u001b[0m\u001b[0;34m,\u001b[0m \u001b[0mnorm\u001b[0m\u001b[0;34m=\u001b[0m\u001b[0mnorm\u001b[0m\u001b[0;34m,\u001b[0m\u001b[0;34m\u001b[0m\u001b[0;34m\u001b[0m\u001b[0m\n\u001b[1;32m   2892\u001b[0m         \u001b[0mvmin\u001b[0m\u001b[0;34m=\u001b[0m\u001b[0mvmin\u001b[0m\u001b[0;34m,\u001b[0m \u001b[0mvmax\u001b[0m\u001b[0;34m=\u001b[0m\u001b[0mvmax\u001b[0m\u001b[0;34m,\u001b[0m \u001b[0malpha\u001b[0m\u001b[0;34m=\u001b[0m\u001b[0malpha\u001b[0m\u001b[0;34m,\u001b[0m \u001b[0mlinewidths\u001b[0m\u001b[0;34m=\u001b[0m\u001b[0mlinewidths\u001b[0m\u001b[0;34m,\u001b[0m\u001b[0;34m\u001b[0m\u001b[0;34m\u001b[0m\u001b[0m\n",
      "\u001b[0;32m~/Anaconda3/lib/python3.8/site-packages/matplotlib/__init__.py\u001b[0m in \u001b[0;36minner\u001b[0;34m(ax, data, *args, **kwargs)\u001b[0m\n\u001b[1;32m   1445\u001b[0m     \u001b[0;32mdef\u001b[0m \u001b[0minner\u001b[0m\u001b[0;34m(\u001b[0m\u001b[0max\u001b[0m\u001b[0;34m,\u001b[0m \u001b[0;34m*\u001b[0m\u001b[0margs\u001b[0m\u001b[0;34m,\u001b[0m \u001b[0mdata\u001b[0m\u001b[0;34m=\u001b[0m\u001b[0;32mNone\u001b[0m\u001b[0;34m,\u001b[0m \u001b[0;34m**\u001b[0m\u001b[0mkwargs\u001b[0m\u001b[0;34m)\u001b[0m\u001b[0;34m:\u001b[0m\u001b[0;34m\u001b[0m\u001b[0;34m\u001b[0m\u001b[0m\n\u001b[1;32m   1446\u001b[0m         \u001b[0;32mif\u001b[0m \u001b[0mdata\u001b[0m \u001b[0;32mis\u001b[0m \u001b[0;32mNone\u001b[0m\u001b[0;34m:\u001b[0m\u001b[0;34m\u001b[0m\u001b[0;34m\u001b[0m\u001b[0m\n\u001b[0;32m-> 1447\u001b[0;31m             \u001b[0;32mreturn\u001b[0m \u001b[0mfunc\u001b[0m\u001b[0;34m(\u001b[0m\u001b[0max\u001b[0m\u001b[0;34m,\u001b[0m \u001b[0;34m*\u001b[0m\u001b[0mmap\u001b[0m\u001b[0;34m(\u001b[0m\u001b[0msanitize_sequence\u001b[0m\u001b[0;34m,\u001b[0m \u001b[0margs\u001b[0m\u001b[0;34m)\u001b[0m\u001b[0;34m,\u001b[0m \u001b[0;34m**\u001b[0m\u001b[0mkwargs\u001b[0m\u001b[0;34m)\u001b[0m\u001b[0;34m\u001b[0m\u001b[0;34m\u001b[0m\u001b[0m\n\u001b[0m\u001b[1;32m   1448\u001b[0m \u001b[0;34m\u001b[0m\u001b[0m\n\u001b[1;32m   1449\u001b[0m         \u001b[0mbound\u001b[0m \u001b[0;34m=\u001b[0m \u001b[0mnew_sig\u001b[0m\u001b[0;34m.\u001b[0m\u001b[0mbind\u001b[0m\u001b[0;34m(\u001b[0m\u001b[0max\u001b[0m\u001b[0;34m,\u001b[0m \u001b[0;34m*\u001b[0m\u001b[0margs\u001b[0m\u001b[0;34m,\u001b[0m \u001b[0;34m**\u001b[0m\u001b[0mkwargs\u001b[0m\u001b[0;34m)\u001b[0m\u001b[0;34m\u001b[0m\u001b[0;34m\u001b[0m\u001b[0m\n",
      "\u001b[0;32m~/Anaconda3/lib/python3.8/site-packages/matplotlib/cbook/deprecation.py\u001b[0m in \u001b[0;36mwrapper\u001b[0;34m(*inner_args, **inner_kwargs)\u001b[0m\n\u001b[1;32m    409\u001b[0m                          \u001b[0;32melse\u001b[0m \u001b[0mdeprecation_addendum\u001b[0m\u001b[0;34m,\u001b[0m\u001b[0;34m\u001b[0m\u001b[0;34m\u001b[0m\u001b[0m\n\u001b[1;32m    410\u001b[0m                 **kwargs)\n\u001b[0;32m--> 411\u001b[0;31m         \u001b[0;32mreturn\u001b[0m \u001b[0mfunc\u001b[0m\u001b[0;34m(\u001b[0m\u001b[0;34m*\u001b[0m\u001b[0minner_args\u001b[0m\u001b[0;34m,\u001b[0m \u001b[0;34m**\u001b[0m\u001b[0minner_kwargs\u001b[0m\u001b[0;34m)\u001b[0m\u001b[0;34m\u001b[0m\u001b[0;34m\u001b[0m\u001b[0m\n\u001b[0m\u001b[1;32m    412\u001b[0m \u001b[0;34m\u001b[0m\u001b[0m\n\u001b[1;32m    413\u001b[0m     \u001b[0;32mreturn\u001b[0m \u001b[0mwrapper\u001b[0m\u001b[0;34m\u001b[0m\u001b[0;34m\u001b[0m\u001b[0m\n",
      "\u001b[0;32m~/Anaconda3/lib/python3.8/site-packages/matplotlib/axes/_axes.py\u001b[0m in \u001b[0;36mscatter\u001b[0;34m(self, x, y, s, c, marker, cmap, norm, vmin, vmax, alpha, linewidths, verts, edgecolors, plotnonfinite, **kwargs)\u001b[0m\n\u001b[1;32m   4439\u001b[0m         \u001b[0my\u001b[0m \u001b[0;34m=\u001b[0m \u001b[0mnp\u001b[0m\u001b[0;34m.\u001b[0m\u001b[0mma\u001b[0m\u001b[0;34m.\u001b[0m\u001b[0mravel\u001b[0m\u001b[0;34m(\u001b[0m\u001b[0my\u001b[0m\u001b[0;34m)\u001b[0m\u001b[0;34m\u001b[0m\u001b[0;34m\u001b[0m\u001b[0m\n\u001b[1;32m   4440\u001b[0m         \u001b[0;32mif\u001b[0m \u001b[0mx\u001b[0m\u001b[0;34m.\u001b[0m\u001b[0msize\u001b[0m \u001b[0;34m!=\u001b[0m \u001b[0my\u001b[0m\u001b[0;34m.\u001b[0m\u001b[0msize\u001b[0m\u001b[0;34m:\u001b[0m\u001b[0;34m\u001b[0m\u001b[0;34m\u001b[0m\u001b[0m\n\u001b[0;32m-> 4441\u001b[0;31m             \u001b[0;32mraise\u001b[0m \u001b[0mValueError\u001b[0m\u001b[0;34m(\u001b[0m\u001b[0;34m\"x and y must be the same size\"\u001b[0m\u001b[0;34m)\u001b[0m\u001b[0;34m\u001b[0m\u001b[0;34m\u001b[0m\u001b[0m\n\u001b[0m\u001b[1;32m   4442\u001b[0m \u001b[0;34m\u001b[0m\u001b[0m\n\u001b[1;32m   4443\u001b[0m         \u001b[0;32mif\u001b[0m \u001b[0ms\u001b[0m \u001b[0;32mis\u001b[0m \u001b[0;32mNone\u001b[0m\u001b[0;34m:\u001b[0m\u001b[0;34m\u001b[0m\u001b[0;34m\u001b[0m\u001b[0m\n",
      "\u001b[0;31mValueError\u001b[0m: x and y must be the same size"
     ]
    },
    {
     "data": {
      "image/png": "[encoded data removed]",
      "text/plain": [
       "<Figure size 432x288 with 1 Axes>"
      ]
     },
     "metadata": {
      "needs_background": "light"
     },
     "output_type": "display_data"
    }
   ],
   "source": [
    "parameter = liner_fitting(x,y)\n",
    "draw_data = calculate_lin(x,parameter[0],parameter[1])\n",
    "draw_lin(x,draw_data,y)"
   ]
  },
  {
   "cell_type": "code",
   "execution_count": 15,
   "id": "623ed5ae",
   "metadata": {},
   "outputs": [
    {
     "name": "stdout",
     "output_type": "stream",
     "text": [
      "-7.262039950895537e-10\n",
      "1.0286014751259067\n",
      "-4014080.9995436966\n"
     ]
    },
    {
     "ename": "NameError",
     "evalue": "name 'calculate_bin' is not defined",
     "output_type": "error",
     "traceback": [
      "\u001b[0;31m---------------------------------------------------------------------------\u001b[0m",
      "\u001b[0;31mNameError\u001b[0m                                 Traceback (most recent call last)",
      "\u001b[0;32m<ipython-input-15-b6ed0d98c9ed>\u001b[0m in \u001b[0;36m<module>\u001b[0;34m\u001b[0m\n\u001b[1;32m      3\u001b[0m \u001b[0;32mfor\u001b[0m \u001b[0mw\u001b[0m \u001b[0;32min\u001b[0m \u001b[0mparameters\u001b[0m\u001b[0;34m:\u001b[0m\u001b[0;34m\u001b[0m\u001b[0;34m\u001b[0m\u001b[0m\n\u001b[1;32m      4\u001b[0m     \u001b[0mprint\u001b[0m\u001b[0;34m(\u001b[0m\u001b[0mw\u001b[0m\u001b[0;34m)\u001b[0m\u001b[0;34m\u001b[0m\u001b[0;34m\u001b[0m\u001b[0m\n\u001b[0;32m----> 5\u001b[0;31m \u001b[0mnewData\u001b[0m\u001b[0;34m=\u001b[0m\u001b[0mcalculate_bin\u001b[0m\u001b[0;34m(\u001b[0m\u001b[0mx\u001b[0m\u001b[0;34m,\u001b[0m\u001b[0mparameters\u001b[0m\u001b[0;34m)\u001b[0m\u001b[0;34m\u001b[0m\u001b[0;34m\u001b[0m\u001b[0m\n\u001b[0m\u001b[1;32m      6\u001b[0m \u001b[0mdraw_bin\u001b[0m\u001b[0;34m(\u001b[0m\u001b[0mx\u001b[0m\u001b[0;34m,\u001b[0m\u001b[0mnewData\u001b[0m\u001b[0;34m,\u001b[0m\u001b[0my\u001b[0m\u001b[0;34m)\u001b[0m\u001b[0;34m\u001b[0m\u001b[0;34m\u001b[0m\u001b[0m\n",
      "\u001b[0;31mNameError\u001b[0m: name 'calculate_bin' is not defined"
     ]
    }
   ],
   "source": [
    "data=polynomial_fitting(x,y)\n",
    "parameters=calculate_parameter(data)\n",
    "for w in parameters:\n",
    "    print(w)\n",
    "newData=calculate_bin(x,parameters)\n",
    "draw_bin(x,newData,y)"
   ]
  },
  {
   "cell_type": "code",
   "execution_count": null,
   "id": "5aa1f5e0",
   "metadata": {},
   "outputs": [],
   "source": []
  },
  {
   "cell_type": "code",
   "execution_count": null,
   "id": "1ec5861b",
   "metadata": {},
   "outputs": [],
   "source": [
    "animals=['giraffes', 'orangutans', 'monkeys']\n",
    "\n",
    "fig = go.Figure(data=[\n",
    "    go.Bar(name='SF Zoo', x=animals, y=[20, 14, 23]),\n",
    "    go.Bar(name='LA Zoo', x=animals, y=[12, 18, 29])\n",
    "])\n",
    "# Change the bar mode\n",
    "fig.update_layout(barmode='group')\n",
    "fig.show()"
   ]
  },
  {
   "cell_type": "code",
   "execution_count": null,
   "id": "1880aad5",
   "metadata": {},
   "outputs": [],
   "source": [
    "agrupado = penguins.groupby([\"species\"])[\"sex\"].value_counts().unstack()\n",
    "agrupado"
   ]
  },
  {
   "cell_type": "code",
   "execution_count": null,
   "id": "07155be0",
   "metadata": {},
   "outputs": [],
   "source": [
    "animals = penguins.species.unique() # ESTO ES UNA LISTA CON LOS NOMBRES \n",
    "fig = go.Figure(data=[\n",
    "    go.Bar(name=\"Female\", x=animals, y=agrupado.Female),\n",
    "    go.Bar(name=\"Male\", x=animals, y=agrupado.Male)\n",
    "])\n",
    "fig.show()"
   ]
  }
 ],
 "metadata": {
  "kernelspec": {
   "display_name": "ironhack",
   "language": "python",
   "name": "ironhack"
  },
  "language_info": {
   "codemirror_mode": {
    "name": "ipython",
    "version": 3
   },
   "file_extension": ".py",
   "mimetype": "text/x-python",
   "name": "python",
   "nbconvert_exporter": "python",
   "pygments_lexer": "ipython3",
   "version": "3.8.8"
  }
 },
 "nbformat": 4,
 "nbformat_minor": 5
}
