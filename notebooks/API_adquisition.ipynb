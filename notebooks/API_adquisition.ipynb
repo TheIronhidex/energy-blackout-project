{
 "cells": [
  {
   "cell_type": "code",
   "execution_count": 2,
   "id": "70e5741f",
   "metadata": {},
   "outputs": [],
   "source": [
    "import requests \n",
    "import json\n",
    "from dotenv import load_dotenv\n",
    "import pandas as pd\n",
    "from pandas import json_normalize\n",
    "from src.api_functions import *\n",
    "from src.cleaning_functions import *"
   ]
  },
  {
   "cell_type": "code",
   "execution_count": 2,
   "id": "2f66586d",
   "metadata": {},
   "outputs": [],
   "source": [
    "# First let's get the global population, which is the easiest\n",
    "url_world = \"https://world-population.p.rapidapi.com/worldpopulation\""
   ]
  },
  {
   "cell_type": "code",
   "execution_count": 3,
   "id": "45324e20",
   "metadata": {},
   "outputs": [
    {
     "data": {
      "text/plain": [
       "{'ok': True, 'body': {'world_population': 7795232630, 'total_countries': 235}}"
      ]
     },
     "execution_count": 3,
     "metadata": {},
     "output_type": "execute_result"
    }
   ],
   "source": [
    "world_pop = request_world_population(url_world)\n",
    "format_json(world_pop)"
   ]
  },
  {
   "cell_type": "code",
   "execution_count": 4,
   "id": "bf341440",
   "metadata": {},
   "outputs": [],
   "source": [
    "# API - 'World population': Get population of a country or world population. Data provided by https://www.worldometers.info/\n",
    "url_specific = \"https://world-population.p.rapidapi.com/population\"\n",
    "city = 'Mexico'"
   ]
  },
  {
   "cell_type": "code",
   "execution_count": 5,
   "id": "e2491f69",
   "metadata": {},
   "outputs": [
    {
     "data": {
      "text/plain": [
       "b'{\"ok\":true,\"body\":{\"country_name\":\"Mexico\",\"population\":128932753,\"ranking\":10,\"world_share\":1.6539949366462974}}'"
      ]
     },
     "execution_count": 5,
     "metadata": {},
     "output_type": "execute_result"
    }
   ],
   "source": [
    "# request_city_population(link, country)\n",
    "result = request_country_population(url_specific, country)\n",
    "result.content"
   ]
  },
  {
   "cell_type": "code",
   "execution_count": 6,
   "id": "cb22f45a",
   "metadata": {},
   "outputs": [],
   "source": [
    "# Now let's get all the countries names -> request_country_names(link)\n",
    "countries_name = []\n",
    "url_countries = \"https://world-population.p.rapidapi.com/allcountriesname\"\n",
    "test = request_country_names(url_countries)\n",
    "dict_countries = format_json(test)"
   ]
  },
  {
   "cell_type": "code",
   "execution_count": 7,
   "id": "9c6fd50f",
   "metadata": {},
   "outputs": [],
   "source": [
    "# We get a { { [ // a dict with dicts and one of them has a list inside. I need that list\n",
    "a = dict_countries.get('body')"
   ]
  },
  {
   "cell_type": "code",
   "execution_count": 8,
   "id": "5961d5b3",
   "metadata": {},
   "outputs": [],
   "source": [
    "list_countries = []\n",
    "for i in a.values():\n",
    "    list_countries.append(i)"
   ]
  },
  {
   "cell_type": "code",
   "execution_count": 9,
   "id": "b5c8826a",
   "metadata": {},
   "outputs": [],
   "source": [
    "# So 'final_list' is my input for the API \n",
    "final_list = [item for sublist in list_countries for item in sublist]"
   ]
  },
  {
   "cell_type": "code",
   "execution_count": 10,
   "id": "68f988af",
   "metadata": {},
   "outputs": [],
   "source": [
    "database_api = request_all_countries_population(url_specific, final_list)"
   ]
  },
  {
   "cell_type": "code",
   "execution_count": 11,
   "id": "92396487",
   "metadata": {},
   "outputs": [
    {
     "name": "stdout",
     "output_type": "stream",
     "text": [
      "{'country_name': 'China', 'population': 1439323776, 'ranking': 1, 'world_share': 18.46415423781907}\n"
     ]
    }
   ],
   "source": [
    "print(database_api[0])"
   ]
  },
  {
   "cell_type": "code",
   "execution_count": 12,
   "id": "896bf16f",
   "metadata": {},
   "outputs": [],
   "source": [
    "# df1 = dataframe from API\n",
    "df1 = pd.DataFrame(database_api)"
   ]
  },
  {
   "cell_type": "code",
   "execution_count": 13,
   "id": "4d19c2f3",
   "metadata": {},
   "outputs": [
    {
     "data": {
      "text/html": [
       "<div>\n",
       "<style scoped>\n",
       "    .dataframe tbody tr th:only-of-type {\n",
       "        vertical-align: middle;\n",
       "    }\n",
       "\n",
       "    .dataframe tbody tr th {\n",
       "        vertical-align: top;\n",
       "    }\n",
       "\n",
       "    .dataframe thead th {\n",
       "        text-align: right;\n",
       "    }\n",
       "</style>\n",
       "<table border=\"1\" class=\"dataframe\">\n",
       "  <thead>\n",
       "    <tr style=\"text-align: right;\">\n",
       "      <th></th>\n",
       "      <th>country_name</th>\n",
       "      <th>population</th>\n",
       "      <th>ranking</th>\n",
       "      <th>world_share</th>\n",
       "    </tr>\n",
       "  </thead>\n",
       "  <tbody>\n",
       "    <tr>\n",
       "      <th>59</th>\n",
       "      <td>Mali</td>\n",
       "      <td>20250833</td>\n",
       "      <td>60</td>\n",
       "      <td>0.259785</td>\n",
       "    </tr>\n",
       "    <tr>\n",
       "      <th>75</th>\n",
       "      <td>Rwanda</td>\n",
       "      <td>12952218</td>\n",
       "      <td>76</td>\n",
       "      <td>0.166156</td>\n",
       "    </tr>\n",
       "    <tr>\n",
       "      <th>204</th>\n",
       "      <td>Cayman Islands</td>\n",
       "      <td>65722</td>\n",
       "      <td>205</td>\n",
       "      <td>0.000843</td>\n",
       "    </tr>\n",
       "    <tr>\n",
       "      <th>49</th>\n",
       "      <td>Venezuela</td>\n",
       "      <td>28435940</td>\n",
       "      <td>50</td>\n",
       "      <td>0.364786</td>\n",
       "    </tr>\n",
       "    <tr>\n",
       "      <th>169</th>\n",
       "      <td>Western Sahara</td>\n",
       "      <td>597339</td>\n",
       "      <td>170</td>\n",
       "      <td>0.007663</td>\n",
       "    </tr>\n",
       "    <tr>\n",
       "      <th>22</th>\n",
       "      <td>Italy</td>\n",
       "      <td>60461826</td>\n",
       "      <td>23</td>\n",
       "      <td>0.775626</td>\n",
       "    </tr>\n",
       "    <tr>\n",
       "      <th>105</th>\n",
       "      <td>Paraguay</td>\n",
       "      <td>7132538</td>\n",
       "      <td>106</td>\n",
       "      <td>0.091499</td>\n",
       "    </tr>\n",
       "    <tr>\n",
       "      <th>117</th>\n",
       "      <td>Slovakia</td>\n",
       "      <td>5459642</td>\n",
       "      <td>118</td>\n",
       "      <td>0.070038</td>\n",
       "    </tr>\n",
       "    <tr>\n",
       "      <th>174</th>\n",
       "      <td>Malta</td>\n",
       "      <td>441543</td>\n",
       "      <td>175</td>\n",
       "      <td>0.005664</td>\n",
       "    </tr>\n",
       "    <tr>\n",
       "      <th>156</th>\n",
       "      <td>Mauritius</td>\n",
       "      <td>1271768</td>\n",
       "      <td>157</td>\n",
       "      <td>0.016315</td>\n",
       "    </tr>\n",
       "  </tbody>\n",
       "</table>\n",
       "</div>"
      ],
      "text/plain": [
       "       country_name  population  ranking  world_share\n",
       "59             Mali    20250833       60     0.259785\n",
       "75           Rwanda    12952218       76     0.166156\n",
       "204  Cayman Islands       65722      205     0.000843\n",
       "49        Venezuela    28435940       50     0.364786\n",
       "169  Western Sahara      597339      170     0.007663\n",
       "22            Italy    60461826       23     0.775626\n",
       "105        Paraguay     7132538      106     0.091499\n",
       "117        Slovakia     5459642      118     0.070038\n",
       "174           Malta      441543      175     0.005664\n",
       "156       Mauritius     1271768      157     0.016315"
      ]
     },
     "execution_count": 13,
     "metadata": {},
     "output_type": "execute_result"
    }
   ],
   "source": [
    "df1.sample(10)"
   ]
  },
  {
   "cell_type": "code",
   "execution_count": 14,
   "id": "1f9656d8",
   "metadata": {},
   "outputs": [],
   "source": [
    "df1.to_csv('data/population-data.csv' , index = False)"
   ]
  }
 ],
 "metadata": {
  "kernelspec": {
   "display_name": "ironhack",
   "language": "python",
   "name": "ironhack"
  },
  "language_info": {
   "codemirror_mode": {
    "name": "ipython",
    "version": 3
   },
   "file_extension": ".py",
   "mimetype": "text/x-python",
   "name": "python",
   "nbconvert_exporter": "python",
   "pygments_lexer": "ipython3",
   "version": "3.8.8"
  }
 },
 "nbformat": 4,
 "nbformat_minor": 5
}
